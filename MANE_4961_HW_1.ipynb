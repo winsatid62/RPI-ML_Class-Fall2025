{
  "nbformat": 4,
  "nbformat_minor": 0,
  "metadata": {
    "colab": {
      "provenance": [],
      "authorship_tag": "ABX9TyNIJ0YrSklXNdVK2nffORPL",
      "include_colab_link": true
    },
    "kernelspec": {
      "name": "python3",
      "display_name": "Python 3"
    },
    "language_info": {
      "name": "python"
    }
  },
  "cells": [
    {
      "cell_type": "markdown",
      "metadata": {
        "id": "view-in-github",
        "colab_type": "text"
      },
      "source": [
        "<a href=\"https://colab.research.google.com/github/winsatid62/RPI-ML_Class-Fall2025/blob/main/MANE_4961_HW_1.ipynb\" target=\"_parent\"><img src=\"https://colab.research.google.com/assets/colab-badge.svg\" alt=\"Open In Colab\"/></a>"
      ]
    },
    {
      "cell_type": "code",
      "execution_count": 3,
      "metadata": {
        "id": "s6kYJYOryR_Z"
      },
      "outputs": [],
      "source": [
        "import numpy as np\n"
      ]
    },
    {
      "cell_type": "markdown",
      "source": [
        "## 1. (10 pts.) Consider feature vectors, 𝐱𝟏 = ⌈2 3 4 8 9⌉$^T$ and 𝐱𝟐 = ⌈2 −3 −4 89⌉$^T$\n",
        "\n",
        "(a) How many features are there in 𝐱𝟏 and 𝐱𝟐?\n",
        "\n",
        "(b) What are the 𝐿1, 𝐿2, and 𝐿∞ norms for each feature vector?"
      ],
      "metadata": {
        "id": "JsD81kf61v3u"
      }
    },
    {
      "cell_type": "code",
      "source": [
        "# Code for problem 1\n",
        "\n",
        "# Initializing the vector\n",
        "# (using row vector instead of column vector as it donesn't affect norm\n",
        "# calculation)\n",
        "x_1 = np.array([2,3,4,8,9])\n",
        "x_2 = np.array([2,-3,-4,89])\n",
        "\n",
        "x_1_1norm = np.linalg.norm(x_1, ord=1)\n",
        "x_1_2norm = np.linalg.norm(x_1, ord=2)\n",
        "x_1_infNorm = np.linalg.norm(x_1, ord=np.inf)\n",
        "\n",
        "print(\"Norms of x1\")\n",
        "print(f\"L1 Norm: {x_1_1norm}\")\n",
        "print(f\"L2 Norm: {x_1_2norm}\")\n",
        "print(f\"Linf Norm: {x_1_infNorm}\\n\")\n",
        "\n",
        "x_2_1norm = np.linalg.norm(x_2, ord=1)\n",
        "x_2_2norm = np.linalg.norm(x_2, ord=2)\n",
        "x_2_infNorm = np.linalg.norm(x_2, ord=np.inf)\n",
        "\n",
        "print(\"Norms of x2\")\n",
        "print(f\"L1 Norm: {x_2_1norm}\")\n",
        "print(f\"L2 Norm: {x_2_2norm}\")\n",
        "print(f\"Linf Norm: {x_2_infNorm}\")"
      ],
      "metadata": {
        "colab": {
          "base_uri": "https://localhost:8080/"
        },
        "id": "CyAgDZgi2Feg",
        "outputId": "4b0d7954-8916-418a-830e-c7339c63c953"
      },
      "execution_count": 11,
      "outputs": [
        {
          "output_type": "stream",
          "name": "stdout",
          "text": [
            "Norms of x1\n",
            "L1 Norm: 26.0\n",
            "L2 Norm: 13.19090595827292\n",
            "Linf Norm: 9.0\n",
            "\n",
            "Norms of x2\n",
            "L1 Norm: 98.0\n",
            "L2 Norm: 89.16277250063504\n",
            "Linf Norm: 89.0\n"
          ]
        }
      ]
    },
    {
      "cell_type": "markdown",
      "source": [
        "### Problem 1 Answer:\n",
        "(a) There are 4 features in $\\mathbf x_{1}$ and 5 features in $\\mathbf x_{2}$\n",
        "\n",
        "(b) For $\\mathbf x_{1}$:\n",
        "- L1 norm = 26\n",
        "- L2 norm ≈ 13.191\n",
        "- L∞ norm = 9\n",
        "\n",
        "For $\\mathbf x_{2}$:\n",
        "- L1 norm = 98\n",
        "- L2 norm ≈ 89.163\n",
        "- L3 norm = 89"
      ],
      "metadata": {
        "id": "FJJq1O8P2MDR"
      }
    },
    {
      "cell_type": "markdown",
      "source": [
        "## 2. (20 pts.) A color image of size 1024x1024 is input to an algorithm which outputs a 64x64 color image representing some important portions of the original image.\n",
        "[Hint: a color image comprises of multiple channels]\n",
        "\n",
        "(a) If the input is converted to a vector, 𝐱 , calculate the length of the feature vector.\n",
        "\n",
        "(b) If the output is converted to a vector, 𝐲, calculate the length of the output vector.\n",
        "\n",
        "(c) The algorithm relates the input and output vectors, 𝐱 and 𝐲 respectively, as 𝐲 = 𝑊𝐱 + 𝐛, where W is a matrix and 𝐛 is a vector. How many elements are there in\n",
        "matrix W? How many elements are in vector b?"
      ],
      "metadata": {
        "id": "43pNcsYP4yLa"
      }
    },
    {
      "cell_type": "code",
      "source": [
        "# Code for problem 2\n"
      ],
      "metadata": {
        "id": "mFHh8bSa4Ms9"
      },
      "execution_count": null,
      "outputs": []
    },
    {
      "cell_type": "markdown",
      "source": [
        "### Problem 2 Answer:\n",
        "\n",
        "(a) [3145728 features]\n",
        "\n",
        "There are three channel in an RGB color image, so each pixel is represented by 3 features. There are 1024x1024 = 1048576 pixels, so the total feature count is 3145728 features\n",
        "\n",
        "(b) [12,288 features]\n",
        "\n",
        "Same process as (a): 64x64x3 = 12288 features\n",
        "\n",
        "(c) [W: 38654705664 elements, b: 12288]\n",
        "\n",
        "Matrix W map x to y, which have 3145728 features and 12288 features respectively, so it must be a 12288x3145728 matrix (Assumimg we are working with column vectors). As such, W has 38654705664 elements. Vector b need to match the dimension of y so it will have the same size as y: 12288 elements\n"
      ],
      "metadata": {
        "id": "ejz896l56NKE"
      }
    },
    {
      "cell_type": "markdown",
      "source": [
        "## 3. (10 pts.) Calculate 1-norm, 2-norm, ∞-norm, and Frobenius norm of\n",
        "$$W= \\begin{bmatrix}\n",
        "1 & -1 \\\\\n",
        "2 & 0\n",
        "\\end{bmatrix} $$"
      ],
      "metadata": {
        "id": "U-6XD57n8Oh-"
      }
    },
    {
      "cell_type": "code",
      "source": [],
      "metadata": {
        "id": "PozWHHVv8O3j"
      },
      "execution_count": null,
      "outputs": []
    },
    {
      "cell_type": "markdown",
      "source": [
        "### Problem 3 Answer:"
      ],
      "metadata": {
        "id": "uOZ5hX6t8PWq"
      }
    },
    {
      "cell_type": "markdown",
      "source": [
        "## 4. (10 pts.) Use the Iris dataset and the code shown in class, but choose 3 out of the 4 original features instead of two and calculate the accuracy score of classification."
      ],
      "metadata": {
        "id": "jsQcj0AD8S3i"
      }
    },
    {
      "cell_type": "code",
      "source": [],
      "metadata": {
        "id": "uQaFWUOr8yQ8"
      },
      "execution_count": null,
      "outputs": []
    },
    {
      "cell_type": "markdown",
      "source": [
        "### Problem 4 Answer:"
      ],
      "metadata": {
        "id": "2mT3ky9W8TeN"
      }
    },
    {
      "cell_type": "markdown",
      "source": [
        "## 5. (10 pts.) In class, we used a neural network to learn how to calculate square root. Use that code and ideas to teach a neural network how to calculate the 7-th root of any integer between 1 and 100."
      ],
      "metadata": {
        "id": "IQhk1g4i8UvV"
      }
    },
    {
      "cell_type": "code",
      "source": [],
      "metadata": {
        "id": "Tdw0YZ-58VDN"
      },
      "execution_count": null,
      "outputs": []
    },
    {
      "cell_type": "markdown",
      "source": [
        "### Problem 5 Answer:"
      ],
      "metadata": {
        "id": "7EVcLSr68VWA"
      }
    },
    {
      "cell_type": "markdown",
      "source": [
        "## 6. (40 pts.) Use the Iris dataset and the neural network code shown in class to create a neural network model that takes sepal length as input and predicts petal length as output.\n",
        "\n",
        "[Hint: Use Numpy or Pandas to wrangle Iris dataset to help define your input and output. You are free to define the number of neurons in each layer.]"
      ],
      "metadata": {
        "id": "byHe_3KS8Wo9"
      }
    },
    {
      "cell_type": "code",
      "source": [],
      "metadata": {
        "id": "ArY4tEzb8XAZ"
      },
      "execution_count": null,
      "outputs": []
    },
    {
      "cell_type": "markdown",
      "source": [
        "### Problem 6 Answer:"
      ],
      "metadata": {
        "id": "V7LYzSEh8XMY"
      }
    }
  ]
}